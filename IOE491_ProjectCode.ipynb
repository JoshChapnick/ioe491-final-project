{
 "cells": [
  {
   "cell_type": "code",
   "execution_count": 87,
   "metadata": {},
   "outputs": [],
   "source": [
    "# TODO: check all teams exist\n",
    "# TODO: check all years exist\n",
    "\n",
    "# STEP 1 - GATHERING DATA\n",
    "import pandas as pd\n",
    "import numpy as np\n",
    "from sklearn import linear_model\n",
    "from sklearn.model_selection import train_test_split\n",
    "from sklearn.neighbors import KNeighborsClassifier\n",
    "from sklearn.ensemble import RandomForestClassifier\n",
    "from sklearn.ensemble import AdaBoostClassifier\n",
    "from sklearn.ensemble import GradientBoostingClassifier\n",
    "from matplotlib import pyplot as plt\n",
    "\n",
    "seasons_df = pd.read_csv('ncaam-march-mania-2021/MDataFiles_Stage1/MSeasons.csv')\n",
    "#print(seasons_df.head())\n",
    "\n",
    "conferences_df = pd.read_csv('ncaam-march-mania-2021/MDataFiles_Stage1/Conferences.csv')\n",
    "#print(conferences_df.head())\n",
    "\n",
    "team_conferences_df = pd.read_csv('ncaam-march-mania-2021/MDataFiles_Stage1/MTeamConferences.csv')\n",
    "#print(team_conferences_df.head())\n",
    "\n",
    "tourney_seeds_df = pd.read_csv('ncaam-march-mania-2021/MDataFiles_Stage1/MNCAATourneySeeds.csv')\n",
    "#print(tourney_seeds_df.head())\n",
    "\n",
    "tourney_slots_df = pd.read_csv('ncaam-march-mania-2021/MDataFiles_Stage1/MNCAATourneySlots.csv')\n",
    "#print(tourney_slots_df.head())\n",
    "\n",
    "tourney_seed_round_slots_df = pd.read_csv('ncaam-march-mania-2021/MDataFiles_Stage1/MNCAATourneySeedRoundSlots.csv')\n",
    "#print(tourney_seed_round_slots_df.head())\n",
    "\n",
    "regseason_compact_results_df = pd.read_csv('ncaam-march-mania-2021/MDataFiles_Stage1/MRegularSeasonCompactResults.csv')\n",
    "#print(regseason_compact_results_df.head())\n",
    "\n",
    "tourney_compact_results_df = pd.read_csv('ncaam-march-mania-2021/MDataFiles_Stage1/MNCAATourneyCompactResults.csv')\n",
    "#print(tourney_compact_results_df.head())\n",
    "\n",
    "regseason_detailed_results_df = pd.read_csv('ncaam-march-mania-2021/MDataFiles_Stage1/MRegularSeasonDetailedResults.csv')\n",
    "#print(regseason_detailed_results_df.head())\n",
    "\n",
    "tourney_detailed_results_df = pd.read_csv('ncaam-march-mania-2021/MDataFiles_Stage1/MNCAATourneyDetailedResults.csv')\n",
    "#print(tourney_detailed_results_df.head())\n",
    "\n",
    "conference_tourney_games_df = pd.read_csv('ncaam-march-mania-2021/MDataFiles_Stage1/MConferenceTourneyGames.csv')\n",
    "#print(conference_tourney_games_df.head())\n",
    "\n",
    "massey_ordinals_df = pd.read_csv('ncaam-march-mania-2021/MDataFiles_Stage1/MMasseyOrdinals.csv')\n",
    "#print(massey_ordinals_df.Season.unique())\n",
    "#print(len(massey_ordinals_df.TeamID.unique()))\n",
    "\n",
    "sample_submission_df = pd.read_csv('ncaam-march-mania-2021/MDataFiles_Stage1/MSampleSubmissionStage1.csv')\n",
    "#print(sample_submission_df.head())\n",
    "\n",
    "all_teams_pd = pd.read_csv('ncaam-march-mania-2021/MDataFiles_Stage1/MTeams.csv')\n",
    "all_teams_list = all_teams_pd['TeamName'].tolist()"
   ]
  },
  {
   "cell_type": "code",
   "execution_count": 2,
   "metadata": {},
   "outputs": [],
   "source": [
    "\n",
    "#REGULAR SEASON FEATURES\n"
   ]
  },
  {
   "cell_type": "code",
   "execution_count": 3,
   "metadata": {},
   "outputs": [],
   "source": [
    "#Part 1 - Obtain TeamID, Season, Win %, Games Played, and PPG\n",
    "\n",
    "#Find the game duration \n",
    "regseason_compact_results_df['GameDuration'] = regseason_compact_results_df['NumOT']\n",
    "for i in range(len(regseason_compact_results_df.NumOT.value_counts())):\n",
    "    regseason_compact_results_df.loc[regseason_compact_results_df['NumOT'] == regseason_compact_results_df.NumOT.value_counts().index[i], 'GameDuration'] = 40 + i*5\n",
    "\n",
    "regseason_compact_results_df['Wppg'] = regseason_compact_results_df['WScore'] * (40.0 / regseason_compact_results_df['GameDuration'])\n",
    "regseason_compact_results_df['Lppg'] = regseason_compact_results_df['LScore'] * (40.0 / regseason_compact_results_df['GameDuration'])\n",
    "\n",
    "regseason_compact_results_df_raw = regseason_compact_results_df\n",
    "\n",
    "regseason_compact_results_df = regseason_compact_results_df.drop(['DayNum', 'WLoc', 'NumOT', 'WScore','LScore','GameDuration'],axis = 1)\n",
    "#print(regseason_compact_results_df.Season.unique())"
   ]
  },
  {
   "cell_type": "code",
   "execution_count": 4,
   "metadata": {},
   "outputs": [],
   "source": [
    "#Calculate average points per game and number of games for winning and losing team\n",
    "Wppg_df = regseason_compact_results_df[[\"Season\",\"WTeamID\",'Wppg']].groupby([\"Season\",\"WTeamID\"]).agg(['mean', 'count'])\n",
    "Lppg_df = regseason_compact_results_df[[\"Season\",\"LTeamID\",'Lppg']].groupby([\"Season\",\"LTeamID\"]).agg(['mean', 'count'])\n",
    "Wppg_df.columns = Wppg_df.columns.droplevel(0)\n",
    "Wppg_df = Wppg_df.reset_index().rename(columns = {'mean':'Wppg', 'count':'WGames'})\n",
    "Lppg_df.columns = Lppg_df.columns.droplevel(0)\n",
    "Lppg_df = Lppg_df.reset_index().rename(columns = {'mean':'Lppg', 'count':'LGames'})\n",
    "#print(Wppg_df)\n",
    "#print(Lppg_df)"
   ]
  },
  {
   "cell_type": "code",
   "execution_count": 5,
   "metadata": {},
   "outputs": [],
   "source": [
    "#Merge PPG for wins and losses and fill NaNs with 0s for undefeated and no-win teams\n",
    "ppg_df = pd.merge(Wppg_df, Lppg_df, left_on=['Season', 'WTeamID'], right_on=['Season', 'LTeamID'], how='outer')\n",
    "ppg_df = ppg_df.fillna({'WTeamID': ppg_df.LTeamID, 'Wppg': 0, 'WGames': 0, 'LTeamID': ppg_df.WTeamID , 'Lppg': 0, 'LGames': 0})\n",
    "#print(ppg_df.Season.unique())"
   ]
  },
  {
   "cell_type": "code",
   "execution_count": 6,
   "metadata": {},
   "outputs": [],
   "source": [
    "#Calculate PPG and win percentage for season \n",
    "ppg_df['PPG'] = (ppg_df['Wppg']*ppg_df['WGames'] + ppg_df['Lppg']*ppg_df['LGames'])/(ppg_df['WGames'] + ppg_df['LGames'])\n",
    "ppg_df['WPerc'] = (ppg_df['WGames'])/(ppg_df['WGames'] + ppg_df['LGames'])\n",
    "ppg_df['TeamID'] = ppg_df['WTeamID'].astype('int32')\n",
    "ppg_df['GamesPlayed'] = (ppg_df['WGames'] + ppg_df['LGames'])\n",
    "ppg_df = ppg_df.drop(['WTeamID', 'Wppg' ,'WGames','LTeamID', 'Lppg','LGames'],axis = 1)\n",
    "#print(ppg_df.Season.unique())"
   ]
  },
  {
   "cell_type": "code",
   "execution_count": 7,
   "metadata": {},
   "outputs": [
    {
     "name": "stdout",
     "output_type": "stream",
     "text": [
      "[2003 2004 2005 2006 2007 2008 2009 2010 2011 2012 2013 2014 2015 2016\n",
      " 2017 2018 2019 2020]\n"
     ]
    }
   ],
   "source": [
    "#Part 2 - Obtain game level statistics:\n",
    "    #2-PT field goal efficiency (2-PT field goals made per game / 2-PT field goals attempted per game)\n",
    "    #3-PT field goal efficiency\n",
    "    #Total field goal efficiency\n",
    "    #Free throw efficiency \n",
    "    #Assists per game\n",
    "    #Blocks per game\n",
    "    #Steals per game\n",
    "    #Turnovers per game\n",
    "    #Personal fouls per game\n",
    "    #Offensive rebounds per game\n",
    "    #Defensive rebounds per game\n",
    "    #Points per shot\n",
    "    #Total rebounds per game\n",
    "    #Average turnovers to assists ratio\n",
    "    #Average turnovers to steals ratio\n",
    "    #Average scoring margin\n",
    "\n",
    "\n",
    "#Gametime normalization \n",
    "regseason_detailed_results_df['GameDuration'] = regseason_detailed_results_df['NumOT']\n",
    "for i in range(len(regseason_detailed_results_df.NumOT.value_counts())):\n",
    "    regseason_detailed_results_df.loc[regseason_detailed_results_df['NumOT'] == regseason_detailed_results_df.NumOT.value_counts().index[i], 'GameDuration'] = 40 + i*5\n",
    "\n",
    "regseason_detailed_results_df['WFGM'] = (regseason_detailed_results_df['WFGM'] / regseason_detailed_results_df['GameDuration']) * 40\n",
    "regseason_detailed_results_df['WFGA'] = (regseason_detailed_results_df['WFGA'] / regseason_detailed_results_df['GameDuration']) * 40\n",
    "regseason_detailed_results_df['WFGM3'] = (regseason_detailed_results_df['WFGM3'] / regseason_detailed_results_df['GameDuration']) * 40\n",
    "regseason_detailed_results_df['WFGA3'] = (regseason_detailed_results_df['WFGA3'] / regseason_detailed_results_df['GameDuration']) * 40\n",
    "regseason_detailed_results_df['WFTM'] = (regseason_detailed_results_df['WFTM'] / regseason_detailed_results_df['GameDuration']) * 40\n",
    "regseason_detailed_results_df['WFTA'] = (regseason_detailed_results_df['WFTA'] / regseason_detailed_results_df['GameDuration']) * 40\n",
    "regseason_detailed_results_df['WOR'] = (regseason_detailed_results_df['WOR'] / regseason_detailed_results_df['GameDuration']) * 40\n",
    "regseason_detailed_results_df['WDR'] = (regseason_detailed_results_df['WDR'] / regseason_detailed_results_df['GameDuration']) * 40\n",
    "regseason_detailed_results_df['WAst'] = (regseason_detailed_results_df['WAst'] / regseason_detailed_results_df['GameDuration']) * 40\n",
    "regseason_detailed_results_df['WTO'] = (regseason_detailed_results_df['WTO'] / regseason_detailed_results_df['GameDuration']) * 40\n",
    "regseason_detailed_results_df['WStl'] = (regseason_detailed_results_df['WStl'] / regseason_detailed_results_df['GameDuration']) * 40\n",
    "regseason_detailed_results_df['WBlk'] = (regseason_detailed_results_df['WBlk'] / regseason_detailed_results_df['GameDuration']) * 40\n",
    "regseason_detailed_results_df['WPF'] = (regseason_detailed_results_df['WPF'] / regseason_detailed_results_df['GameDuration']) * 40\n",
    "\n",
    "regseason_detailed_results_df['LFGM'] = (regseason_detailed_results_df['LFGM'] / regseason_detailed_results_df['GameDuration']) * 40\n",
    "regseason_detailed_results_df['LFGA'] = (regseason_detailed_results_df['LFGA'] / regseason_detailed_results_df['GameDuration']) * 40\n",
    "regseason_detailed_results_df['LFGM3'] = (regseason_detailed_results_df['LFGM3'] / regseason_detailed_results_df['GameDuration']) * 40\n",
    "regseason_detailed_results_df['LFGA3'] = (regseason_detailed_results_df['LFGA3'] / regseason_detailed_results_df['GameDuration']) * 40\n",
    "regseason_detailed_results_df['LFTM'] = (regseason_detailed_results_df['LFTM'] / regseason_detailed_results_df['GameDuration']) * 40\n",
    "regseason_detailed_results_df['LFTA'] = (regseason_detailed_results_df['LFTA'] / regseason_detailed_results_df['GameDuration']) * 40\n",
    "regseason_detailed_results_df['LOR'] = (regseason_detailed_results_df['LOR'] / regseason_detailed_results_df['GameDuration']) * 40\n",
    "regseason_detailed_results_df['LDR'] = (regseason_detailed_results_df['LDR'] / regseason_detailed_results_df['GameDuration']) * 40\n",
    "regseason_detailed_results_df['LAst'] = (regseason_detailed_results_df['LAst'] / regseason_detailed_results_df['GameDuration']) * 40\n",
    "regseason_detailed_results_df['LTO'] = (regseason_detailed_results_df['LTO'] / regseason_detailed_results_df['GameDuration']) * 40\n",
    "regseason_detailed_results_df['LStl'] = (regseason_detailed_results_df['LStl'] / regseason_detailed_results_df['GameDuration']) * 40\n",
    "regseason_detailed_results_df['LBlk'] = (regseason_detailed_results_df['LBlk'] / regseason_detailed_results_df['GameDuration']) * 40\n",
    "regseason_detailed_results_df['LPF'] = (regseason_detailed_results_df['LPF'] / regseason_detailed_results_df['GameDuration']) * 40\n",
    "\n",
    "#Calculate game level statistics for winning team \n",
    "\n",
    "regseason_detailed_results_df[\"W2FG%\"] = (regseason_detailed_results_df[\"WFGM\"] / regseason_detailed_results_df[\"WFGA\"])\n",
    "regseason_detailed_results_df[\"W3FG%\"] = (regseason_detailed_results_df[\"WFGM3\"] / regseason_detailed_results_df[\"WFGA3\"])\n",
    "regseason_detailed_results_df[\"WFG%\"] = (regseason_detailed_results_df[\"WFGM\"] + regseason_detailed_results_df[\"WFGM3\"] ) / (regseason_detailed_results_df[\"WFGA\"] + regseason_detailed_results_df[\"WFGA3\"])\n",
    "regseason_detailed_results_df[\"WFT%\"] = (regseason_detailed_results_df['WFTM'] / regseason_detailed_results_df['WFTA']) \n",
    "regseason_detailed_results_df[\"WScoreMargin\"] = regseason_detailed_results_df[\"WScore\"] - regseason_detailed_results_df[\"LScore\"]\n",
    "regseason_detailed_results_df[\"WPPS\"] = (regseason_detailed_results_df[\"WScore\"]) / (regseason_detailed_results_df[\"WFGA\"] + regseason_detailed_results_df[\"WFGA3\"])\n",
    "regseason_detailed_results_df[\"W#POS\"] = regseason_detailed_results_df[\"WFGA\"] + regseason_detailed_results_df[\"WFGA3\"] - regseason_detailed_results_df['WOR'] + regseason_detailed_results_df['WTO'] + (0.4 * regseason_detailed_results_df['WFTA'])\n",
    "regseason_detailed_results_df[\"WOEFF\"] = (regseason_detailed_results_df[\"WScore\"]) / (regseason_detailed_results_df[\"W#POS\"])\n",
    "regseason_detailed_results_df[\"WDEFF\"] = (regseason_detailed_results_df[\"LScore\"]) / (regseason_detailed_results_df[\"W#POS\"])\n",
    "\n",
    "#Calculate game level statistics for losing team \n",
    "\n",
    "regseason_detailed_results_df[\"L2FG%\"] = (regseason_detailed_results_df[\"LFGM\"] / regseason_detailed_results_df[\"LFGA\"])\n",
    "regseason_detailed_results_df[\"L3FG%\"] = (regseason_detailed_results_df[\"LFGM3\"] / regseason_detailed_results_df[\"LFGA3\"])\n",
    "regseason_detailed_results_df[\"LFG%\"] = (regseason_detailed_results_df[\"LFGM\"] + regseason_detailed_results_df[\"LFGM3\"] ) / (regseason_detailed_results_df[\"LFGA\"] + regseason_detailed_results_df[\"LFGA3\"])\n",
    "regseason_detailed_results_df[\"LFT%\"] = (regseason_detailed_results_df['LFTM'] / regseason_detailed_results_df['LFTA']) \n",
    "regseason_detailed_results_df[\"LScoreMargin\"] = (regseason_detailed_results_df[\"LScore\"] - regseason_detailed_results_df[\"WScore\"])\n",
    "regseason_detailed_results_df[\"LPPS\"] = (regseason_detailed_results_df[\"LScore\"]) / (regseason_detailed_results_df[\"LFGA\"] + regseason_detailed_results_df[\"LFGA3\"])\n",
    "regseason_detailed_results_df[\"L#POS\"] = regseason_detailed_results_df[\"LFGA\"] + regseason_detailed_results_df[\"LFGA3\"] - regseason_detailed_results_df['LOR'] + regseason_detailed_results_df['LTO'] + (0.4 * regseason_detailed_results_df['LFTA'])\n",
    "regseason_detailed_results_df[\"LOEFF\"] = (regseason_detailed_results_df[\"LScore\"]) / (regseason_detailed_results_df[\"L#POS\"])\n",
    "regseason_detailed_results_df[\"LDEFF\"] = (regseason_detailed_results_df[\"WScore\"]) / (regseason_detailed_results_df[\"L#POS\"])\n",
    "print(regseason_detailed_results_df.Season.unique())\n",
    "#for col in regseason_detailed_results_df.columns:\n",
    "    #print(col)\n",
    "    \n",
    "    "
   ]
  },
  {
   "cell_type": "code",
   "execution_count": 8,
   "metadata": {},
   "outputs": [],
   "source": [
    "#Extract relevant columns and rename \n",
    "Wstats_df = regseason_detailed_results_df[['Season', \n",
    "                                           'DayNum', \n",
    "                                           'WTeamID', \n",
    "                                           'WScore', \n",
    "                                           'WFGM', \n",
    "                                           'WFGA', \n",
    "                                           'WFGM3', \n",
    "                                           'WFGA3', \n",
    "                                           'WFTM', \n",
    "                                           'WFTA', \n",
    "                                           'WOR', \n",
    "                                           'WDR', \n",
    "                                           'WAst', \n",
    "                                           'WTO', \n",
    "                                           'WStl', \n",
    "                                           'WBlk', \n",
    "                                           'WPF', \n",
    "                                           'W2FG%', \n",
    "                                           'W3FG%', \n",
    "                                           'WFG%', \n",
    "                                           'WFT%', \n",
    "                                           'WScoreMargin',\n",
    "                                           'WPPS',\n",
    "                                           'WOEFF',\n",
    "                                           'WDEFF']]\n",
    "\n",
    "Wstats_df = Wstats_df.rename(columns = {'WTeamID': 'TeamID',\n",
    "                                        'WScore': 'AvgScore', \n",
    "                                           'WFGM': 'FGM', \n",
    "                                           'WFGA': 'FGA', \n",
    "                                           'WFGM3': 'FGM3', \n",
    "                                           'WFGA3': 'FGA3', \n",
    "                                           'WFTM': 'FTM', \n",
    "                                           'WFTA': 'FTA', \n",
    "                                           'WOR': 'OR', \n",
    "                                           'WDR': 'DR', \n",
    "                                           'WAst': 'Ast', \n",
    "                                           'WTO': 'TO', \n",
    "                                           'WStl': 'Stl', \n",
    "                                           'WBlk': 'Blk', \n",
    "                                           'WPF': 'PF', \n",
    "                                           'W2FG%': '2FG%', \n",
    "                                           'W3FG%': '3FG%', \n",
    "                                           'WFG%': 'FG%', \n",
    "                                           'WFT%': 'FT%', \n",
    "                                           'WScoreMargin': 'AvgScoreMarg',\n",
    "                                           'WPPS': 'PPS',\n",
    "                                           'WOEFF': 'OEFF',\n",
    "                                           'WDEFF': 'DEFF'})\n",
    "\n",
    "Lstats_df = regseason_detailed_results_df[['Season', \n",
    "                                           'DayNum', \n",
    "                                           'LTeamID', \n",
    "                                           'LScore', \n",
    "                                           'LFGM', \n",
    "                                           'LFGA', \n",
    "                                           'LFGM3', \n",
    "                                           'LFGA3', \n",
    "                                           'LFTM', \n",
    "                                           'LFTA', \n",
    "                                           'LOR', \n",
    "                                           'LDR', \n",
    "                                           'LAst', \n",
    "                                           'LTO', \n",
    "                                           'LStl', \n",
    "                                           'LBlk', \n",
    "                                           'LPF', \n",
    "                                           'L2FG%', \n",
    "                                           'L3FG%', \n",
    "                                           'LFG%', \n",
    "                                           'LFT%', \n",
    "                                           'LScoreMargin',\n",
    "                                           'LPPS',\n",
    "                                           'LOEFF',\n",
    "                                           'LDEFF']]\n",
    "\n",
    "Lstats_df = Lstats_df.rename(columns = {'LTeamID': 'TeamID', \n",
    "                                           'LScore': 'AvgScore', \n",
    "                                           'LFGM': 'FGM', \n",
    "                                           'LFGA': 'FGA', \n",
    "                                           'LFGM3': 'FGM3', \n",
    "                                           'LFGA3': 'FGA3', \n",
    "                                           'LFTM': 'FTM', \n",
    "                                           'LFTA': 'FTA', \n",
    "                                           'LOR': 'OR', \n",
    "                                           'LDR': 'DR', \n",
    "                                           'LAst': 'Ast', \n",
    "                                           'LTO': 'TO', \n",
    "                                           'LStl': 'Stl', \n",
    "                                           'LBlk': 'Blk', \n",
    "                                           'LPF': 'PF', \n",
    "                                           'L2FG%': '2FG%', \n",
    "                                           'L3FG%': '3FG%', \n",
    "                                           'LFG%': 'FG%', \n",
    "                                           'LFT%': 'FT%', \n",
    "                                           'LScoreMargin': 'AvgScoreMarg',\n",
    "                                           'LPPS': 'PPS',\n",
    "                                           'LOEFF': 'OEFF',\n",
    "                                           'LDEFF': 'DEFF'})\n",
    "stats_df = pd.concat([Wstats_df, Lstats_df]) \n",
    "#print(stats_df.Season.unique())\n"
   ]
  },
  {
   "cell_type": "code",
   "execution_count": 9,
   "metadata": {},
   "outputs": [],
   "source": [
    "#Take seasonal and 30 day averages of the efficiency metrics\n",
    "seasonAvgStats_df = stats_df.groupby(by = ['Season', 'TeamID']).agg('mean').reset_index().drop(['DayNum'], axis = 1)\n",
    "#print(seasonAvgStats_df.Season.unique())"
   ]
  },
  {
   "cell_type": "code",
   "execution_count": 10,
   "metadata": {
    "pycharm": {
     "name": "#%%\n"
    }
   },
   "outputs": [
    {
     "data": {
      "text/html": [
       "<div>\n",
       "<style scoped>\n",
       "    .dataframe tbody tr th:only-of-type {\n",
       "        vertical-align: middle;\n",
       "    }\n",
       "\n",
       "    .dataframe tbody tr th {\n",
       "        vertical-align: top;\n",
       "    }\n",
       "\n",
       "    .dataframe thead th {\n",
       "        text-align: right;\n",
       "    }\n",
       "</style>\n",
       "<table border=\"1\" class=\"dataframe\">\n",
       "  <thead>\n",
       "    <tr style=\"text-align: right;\">\n",
       "      <th></th>\n",
       "      <th>Season</th>\n",
       "      <th>RankingDayNum</th>\n",
       "      <th>SystemName</th>\n",
       "      <th>TeamID</th>\n",
       "      <th>OrdinalRank</th>\n",
       "    </tr>\n",
       "  </thead>\n",
       "  <tbody>\n",
       "    <tr>\n",
       "      <th>4120881</th>\n",
       "      <td>2020</td>\n",
       "      <td>133</td>\n",
       "      <td>WOL</td>\n",
       "      <td>1463</td>\n",
       "      <td>53</td>\n",
       "    </tr>\n",
       "    <tr>\n",
       "      <th>4120882</th>\n",
       "      <td>2020</td>\n",
       "      <td>133</td>\n",
       "      <td>WOL</td>\n",
       "      <td>1464</td>\n",
       "      <td>209</td>\n",
       "    </tr>\n",
       "    <tr>\n",
       "      <th>4120883</th>\n",
       "      <td>2020</td>\n",
       "      <td>133</td>\n",
       "      <td>WOL</td>\n",
       "      <td>1465</td>\n",
       "      <td>194</td>\n",
       "    </tr>\n",
       "    <tr>\n",
       "      <th>4120884</th>\n",
       "      <td>2020</td>\n",
       "      <td>133</td>\n",
       "      <td>WOL</td>\n",
       "      <td>1466</td>\n",
       "      <td>290</td>\n",
       "    </tr>\n",
       "    <tr>\n",
       "      <th>4120885</th>\n",
       "      <td>2020</td>\n",
       "      <td>133</td>\n",
       "      <td>WOL</td>\n",
       "      <td>1467</td>\n",
       "      <td>165</td>\n",
       "    </tr>\n",
       "  </tbody>\n",
       "</table>\n",
       "</div>"
      ],
      "text/plain": [
       "         Season  RankingDayNum SystemName  TeamID  OrdinalRank\n",
       "4120881    2020            133        WOL    1463           53\n",
       "4120882    2020            133        WOL    1464          209\n",
       "4120883    2020            133        WOL    1465          194\n",
       "4120884    2020            133        WOL    1466          290\n",
       "4120885    2020            133        WOL    1467          165"
      ]
     },
     "execution_count": 10,
     "metadata": {},
     "output_type": "execute_result"
    }
   ],
   "source": [
    "#Quick (haha, i wish. this takes forever) cleanup for 2020 season bc it was cut short\n",
    "massey_ordinals_df['RankingDayNum'] = massey_ordinals_df.apply(lambda row: 133 if row['Season'] == 2020 and row['RankingDayNum'] == 128 else row['RankingDayNum'], axis=1)\n",
    "massey_ordinals_df.tail()"
   ]
  },
  {
   "cell_type": "code",
   "execution_count": 11,
   "metadata": {},
   "outputs": [
    {
     "data": {
      "text/html": [
       "<div>\n",
       "<style scoped>\n",
       "    .dataframe tbody tr th:only-of-type {\n",
       "        vertical-align: middle;\n",
       "    }\n",
       "\n",
       "    .dataframe tbody tr th {\n",
       "        vertical-align: top;\n",
       "    }\n",
       "\n",
       "    .dataframe thead th {\n",
       "        text-align: right;\n",
       "    }\n",
       "</style>\n",
       "<table border=\"1\" class=\"dataframe\">\n",
       "  <thead>\n",
       "    <tr style=\"text-align: right;\">\n",
       "      <th></th>\n",
       "      <th>Season</th>\n",
       "      <th>TeamID</th>\n",
       "      <th>MasseyRank</th>\n",
       "      <th>PomeroyRank</th>\n",
       "      <th>MeanRank</th>\n",
       "    </tr>\n",
       "  </thead>\n",
       "  <tbody>\n",
       "    <tr>\n",
       "      <th>0</th>\n",
       "      <td>2003</td>\n",
       "      <td>1102</td>\n",
       "      <td>172</td>\n",
       "      <td>160</td>\n",
       "      <td>156.03125</td>\n",
       "    </tr>\n",
       "    <tr>\n",
       "      <th>1</th>\n",
       "      <td>2003</td>\n",
       "      <td>1103</td>\n",
       "      <td>163</td>\n",
       "      <td>163</td>\n",
       "      <td>168.00000</td>\n",
       "    </tr>\n",
       "    <tr>\n",
       "      <th>2</th>\n",
       "      <td>2003</td>\n",
       "      <td>1104</td>\n",
       "      <td>41</td>\n",
       "      <td>33</td>\n",
       "      <td>38.03125</td>\n",
       "    </tr>\n",
       "    <tr>\n",
       "      <th>3</th>\n",
       "      <td>2003</td>\n",
       "      <td>1105</td>\n",
       "      <td>310</td>\n",
       "      <td>307</td>\n",
       "      <td>308.96875</td>\n",
       "    </tr>\n",
       "    <tr>\n",
       "      <th>4</th>\n",
       "      <td>2003</td>\n",
       "      <td>1106</td>\n",
       "      <td>270</td>\n",
       "      <td>263</td>\n",
       "      <td>262.68750</td>\n",
       "    </tr>\n",
       "  </tbody>\n",
       "</table>\n",
       "</div>"
      ],
      "text/plain": [
       "   Season  TeamID  MasseyRank  PomeroyRank   MeanRank\n",
       "0    2003    1102         172          160  156.03125\n",
       "1    2003    1103         163          163  168.00000\n",
       "2    2003    1104          41           33   38.03125\n",
       "3    2003    1105         310          307  308.96875\n",
       "4    2003    1106         270          263  262.68750"
      ]
     },
     "execution_count": 11,
     "metadata": {},
     "output_type": "execute_result"
    }
   ],
   "source": [
    "#Part 4 - Add Ranking Data\n",
    "rankings_df = massey_ordinals_df[massey_ordinals_df['RankingDayNum'] == 133]\n",
    "rankings_df = rankings_df.reset_index().drop(['index','RankingDayNum'], axis = 1)\n",
    "mean_df = rankings_df.groupby(by = ['Season','TeamID'])[['OrdinalRank']].mean().reset_index()\n",
    "mean_df = mean_df.rename(columns = {'OrdinalRank':'MeanRank'})\n",
    "\n",
    "#Massey ordinals are missing for 2004-2009, but this shouldn't matter as we're only using data from 2015 forward\n",
    "massey_ordinals_df = rankings_df[rankings_df['SystemName'] == 'MAS']\n",
    "massey_ordinals_df = massey_ordinals_df.reset_index().drop(['index','SystemName'], axis = 1)\n",
    "massey_ordinals_df = massey_ordinals_df.rename(columns = {'OrdinalRank':'MasseyRank'})\n",
    "pomeroy_df = rankings_df[rankings_df['SystemName'] == 'POM']\n",
    "pomeroy_df = pomeroy_df.reset_index().drop(['index','SystemName'], axis = 1)\n",
    "pomeroy_df = pomeroy_df.rename(columns = {'OrdinalRank':'PomeroyRank'})\n",
    "rankings_df = pd.merge(massey_ordinals_df, pomeroy_df, left_on=['Season', 'TeamID'], right_on=['Season', 'TeamID'], how='left')\n",
    "rankings_df = pd.merge(rankings_df, mean_df, left_on=['Season', 'TeamID'], right_on=['Season', 'TeamID'], how='left')\n",
    "rankings_df.head()"
   ]
  },
  {
   "cell_type": "code",
   "execution_count": 12,
   "metadata": {},
   "outputs": [
    {
     "name": "stdout",
     "output_type": "stream",
     "text": [
      "[2003 2004 2005 2010 2011 2012 2013 2014 2015 2016 2017 2018 2019 2020]\n",
      "358\n",
      "(4848, 30)\n"
     ]
    }
   ],
   "source": [
    "#Part 5 - Merge ppg_df, seasonAvgStats_df, and rankings_df\n",
    "features_df = pd.merge(ppg_df, seasonAvgStats_df)\n",
    "features_df = pd.merge(features_df, rankings_df)\n",
    "print(features_df.Season.unique())\n",
    "print(len(features_df.TeamID.unique()))\n",
    "print(features_df.shape)\n",
    "# for col in features_df.columns:\n",
    "#     print(col)"
   ]
  },
  {
   "cell_type": "code",
   "execution_count": 110,
   "metadata": {},
   "outputs": [
    {
     "name": "stdout",
     "output_type": "stream",
     "text": [
      "[74.23942652329748, 0.6129032258064516, 31.0, 75.03225806451613, 27.48458781362007, 59.48458781362007, 7.890322580645161, 23.253763440860215, 11.379928315412187, 15.859498207885304, 8.538351254480286, 27.217921146953405, 14.485304659498208, 10.612186379928314, 5.392114695340502, 4.460215053763441, 15.073118279569893, 0.46340581579423046, 0.3386284548997419, 0.4290069391062079, 0.7199026808940335, 6.774193548387097, 0.9147068920214466, 0.8256420222654155, 0.7544546219579441, 25.0, 16.0, 23.838709677419356]\n"
     ]
    }
   ],
   "source": [
    "#TOURNAMENT FEATURES\n",
    "\n",
    "import collections\n",
    "\n",
    "features_df[features_df['TeamID'] == 1276]\n",
    "\n",
    "#Create a vector for a given team and season\n",
    "def season_vector(team_id, year):\n",
    "    temp_frame = features_df.query('TeamID == {} and Season == {}'.format(team_id, year))\n",
    "    temp_frame = temp_frame[['PPG', 'WPerc', 'GamesPlayed', 'AvgScore', 'FGM',\n",
    "       'FGA', 'FGM3', 'FGA3', 'FTM', 'FTA', 'OR', 'DR', 'Ast', 'TO', 'Stl',\n",
    "       'Blk', 'PF', '2FG%', '3FG%', 'FG%', 'FT%', 'AvgScoreMarg', 'PPS',\n",
    "       'OEFF', 'DEFF', 'MasseyRank', 'PomeroyRank', 'MeanRank']].values.flatten().tolist()\n",
    "    return temp_frame\n",
    "\n",
    "#Let's check out Michigan\n",
    "print(season_vector(1276, 2020))"
   ]
  },
  {
   "cell_type": "code",
   "execution_count": 14,
   "metadata": {},
   "outputs": [
    {
     "data": {
      "text/plain": [
       "[2.1749103942652255,\n",
       " -0.06451612903225801,\n",
       " 0.0,\n",
       " 2.967741935483872,\n",
       " 3.19426523297491,\n",
       " 4.968458781362003,\n",
       " -0.5290322580645173,\n",
       " 0.6731182795698913,\n",
       " -3.6845878136200714,\n",
       " -4.172759856630824,\n",
       " -1.5906810035842298,\n",
       " 0.3146953405017925,\n",
       " 1.1949820788530463,\n",
       " -2.097491039426524,\n",
       " 0.3598566308243729,\n",
       " 1.0086021505376341,\n",
       " -2.0559139784946225,\n",
       " 0.016834456319469226,\n",
       " -0.032848280191153933,\n",
       " 0.003908966534431679,\n",
       " -0.02788073247172962,\n",
       " -2.354838709677419,\n",
       " -0.02620853163773129,\n",
       " 0.003369797662325924,\n",
       " 0.0334454015102007,\n",
       " 6.0,\n",
       " 8.0,\n",
       " 8.007940446650124]"
      ]
     },
     "execution_count": 14,
     "metadata": {},
     "output_type": "execute_result"
    }
   ],
   "source": [
    "#Team Comparison\n",
    "\n",
    "def compare_teams(team_id_1, team_id_2, year):\n",
    "    team_1 = season_vector(team_id_1, year)\n",
    "    team_2 = season_vector(team_id_2, year)\n",
    "    comparison = [a - b for a, b in zip(team_1, team_2)]\n",
    "    return comparison\n",
    "\n",
    "#Let's compare Michigan and Ohio State\n",
    "compare_teams(1276, 1326, 2020)"
   ]
  },
  {
   "cell_type": "code",
   "execution_count": 15,
   "metadata": {},
   "outputs": [
    {
     "data": {
      "text/plain": [
       "[74.23942652329748,\n",
       " 0.6129032258064516,\n",
       " 31.0,\n",
       " 75.03225806451613,\n",
       " 27.48458781362007,\n",
       " 59.48458781362007,\n",
       " 7.890322580645161,\n",
       " 23.253763440860215,\n",
       " 11.379928315412187,\n",
       " 15.859498207885304,\n",
       " 8.538351254480286,\n",
       " 27.217921146953405,\n",
       " 14.485304659498208,\n",
       " 10.612186379928314,\n",
       " 5.392114695340502,\n",
       " 4.460215053763441,\n",
       " 15.073118279569893,\n",
       " 0.46340581579423046,\n",
       " 0.3386284548997419,\n",
       " 0.4290069391062079,\n",
       " 0.7199026808940335,\n",
       " 6.774193548387097,\n",
       " 0.9147068920214466,\n",
       " 0.8256420222654155,\n",
       " 0.7544546219579441,\n",
       " 25.0,\n",
       " 16.0,\n",
       " 23.838709677419356]"
      ]
     },
     "execution_count": 15,
     "metadata": {},
     "output_type": "execute_result"
    }
   ],
   "source": [
    "#Generate a vector for all teams in a given year\n",
    "\n",
    "def all_teams_season(year):\n",
    "    season_dictionary = collections.defaultdict(list)\n",
    "    for team in all_teams_list:\n",
    "        team_id = all_teams_pd[all_teams_pd['TeamName'] == team].values[0][0]\n",
    "        team_vector = season_vector(team_id, year)\n",
    "        season_dictionary[team_id] = team_vector\n",
    "    return season_dictionary\n",
    "\n",
    "#And make sure it still works with Michigan\n",
    "all_teams_season(2020)[1276]"
   ]
  },
  {
   "cell_type": "code",
   "execution_count": 16,
   "metadata": {},
   "outputs": [],
   "source": [
    "#Add indicator for location instead of letter\n",
    "def codify_home_away(row_num):\n",
    "    if (row_num == 'H'):\n",
    "        home = 1\n",
    "    if (row_num == 'A'):\n",
    "        home = -1\n",
    "    if (row_num == 'N'):\n",
    "        home = 0\n",
    "    return home"
   ]
  },
  {
   "cell_type": "code",
   "execution_count": 130,
   "metadata": {},
   "outputs": [
    {
     "name": "stdout",
     "output_type": "stream",
     "text": [
      "[ 2.52155172e-01  3.00000000e+00 -4.43211207e+00 -3.32267720e+00\n",
      " -6.28424330e+00  1.98359674e+00  6.16606801e+00 -6.12787356e-01\n",
      " -1.41738506e+00  1.36613985e-01 -1.25610632e+00  2.10931513e+00\n",
      " -6.80196360e-01 -9.98597398e-03 -5.71686232e-02  5.99676724e+00\n",
      " -1.32632685e-01 -2.03000000e+02 -1.60000000e+02 -1.85051724e+02\n",
      "  1.00000000e+00]\n"
     ]
    }
   ],
   "source": [
    "#Time to create the training set!\n",
    "def createTrainingSet(years):\n",
    "    totalNumGames = 0\n",
    "    for year in years:\n",
    "        season = regseason_compact_results_df_raw[regseason_compact_results_df_raw['Season'] == year]\n",
    "        totalNumGames += len(season.index)\n",
    "        tourney = tourney_compact_results_df[tourney_compact_results_df['Season'] == year]\n",
    "        totalNumGames += len(tourney.index)\n",
    "    numFeatures = len(season_vector(1276,2020)) #Just choosing a random team and seeing the dimensionality of the vector\n",
    "    xTrain = np.zeros(( totalNumGames, numFeatures + 1))\n",
    "    yTrain = np.zeros(( totalNumGames ))\n",
    "    indexCounter = 0\n",
    "    for year in years:\n",
    "        team_vectors = all_teams_season(year)\n",
    "        season = regseason_compact_results_df_raw[regseason_compact_results_df_raw['Season'] == year]\n",
    "        numGamesInSeason = len(season.index)\n",
    "        tourney = tourney_compact_results_df[tourney_compact_results_df['Season'] == year]\n",
    "        numGamesInSeason += len(tourney.index)\n",
    "        xTrainSeason = np.zeros(( numGamesInSeason, numFeatures + 1))\n",
    "        yTrainSeason = np.zeros(( numGamesInSeason ))\n",
    "        counter = 0\n",
    "        for index, row in season.iterrows():\n",
    "            w_team = row['WTeamID']\n",
    "            w_vector = team_vectors[w_team]\n",
    "            l_team = row['LTeamID']\n",
    "            l_vector = team_vectors[l_team]\n",
    "            diff = [a - b for a, b in zip(w_vector, l_vector)]\n",
    "            home = codify_home_away(row['WLoc'])\n",
    "            if (counter % 2 == 0):\n",
    "                diff.append(home) \n",
    "                xTrainSeason[counter] = diff\n",
    "                yTrainSeason[counter] = 1\n",
    "            else:\n",
    "                diff.append(-home)\n",
    "                xTrainSeason[counter] = [ -p for p in diff]\n",
    "                yTrainSeason[counter] = 0\n",
    "            counter += 1\n",
    "        for index, row in tourney.iterrows():\n",
    "            w_team = row['WTeamID']\n",
    "            w_vector = team_vectors[w_team]\n",
    "            l_team = row['LTeamID']\n",
    "            l_vector = team_vectors[l_team]\n",
    "            diff = [a - b for a, b in zip(w_vector, l_vector)]\n",
    "            home = 0 #All tournament games are neutral\n",
    "            if (counter % 2 == 0):\n",
    "                diff.append(home) \n",
    "                xTrainSeason[counter] = diff\n",
    "                yTrainSeason[counter] = 1\n",
    "            else:\n",
    "                diff.append(-home)\n",
    "                xTrainSeason[counter] = [ -p for p in diff]\n",
    "                yTrainSeason[counter] = 0\n",
    "            counter += 1\n",
    "        xTrain[indexCounter:numGamesInSeason+indexCounter] = xTrainSeason\n",
    "        yTrain[indexCounter:numGamesInSeason+indexCounter] = yTrainSeason\n",
    "        indexCounter += numGamesInSeason\n",
    "    return xTrain, yTrain\n",
    "\n",
    "year_list = range(2016,2020)\n",
    "x_train, y_train = createTrainingSet(year_list)"
   ]
  },
  {
   "cell_type": "code",
   "execution_count": 97,
   "metadata": {
    "scrolled": false
   },
   "outputs": [
    {
     "name": "stdout",
     "output_type": "stream",
     "text": [
      "(21900, 29)\n",
      "(21900,)\n",
      "(16425, 29) (5475, 29) (16425,) (5475,)\n",
      "[0.44429281 0.32130455 0.36842105 0.42821634 0.44429681 0.58463904\n",
      " 0.52688176 0.55247803 0.32195135 0.41708976 0.56819279 0.31175152\n",
      " 0.36652352 0.5216719  0.45193596 0.48389166 0.37248597 0.34633893\n",
      " 0.46309572 0.37084537 0.20909855 0.32561443 0.27119606 0.2988134\n",
      " 0.5570741  0.70477569 0.7244898  0.70955137 1.        ] 0.0\n"
     ]
    }
   ],
   "source": [
    "#We need to normalize the data, so we'll do that below\n",
    "\n",
    "from sklearn import preprocessing\n",
    "scaler = preprocessing.MinMaxScaler()\n",
    "x_scaled = scaler.fit_transform(x_train)\n",
    "print(x_scaled.shape)\n",
    "print(y_train.shape)\n",
    "X_train, X_test, Y_train, Y_test = train_test_split(x_scaled, y_train)\n",
    "print(X_train.shape, X_test.shape, Y_train.shape, Y_test.shape)"
   ]
  },
  {
   "cell_type": "code",
   "execution_count": 128,
   "metadata": {},
   "outputs": [
    {
     "name": "stdout",
     "output_type": "stream",
     "text": [
      "The accuracy is 0.7607305936073059\n"
     ]
    },
    {
     "data": {
      "image/png": "[encoded data removed]",
      "text/plain": [
       "<Figure size 576x396 with 1 Axes>"
      ]
     },
     "metadata": {},
     "output_type": "display_data"
    }
   ],
   "source": [
    "#FEATURE SELECTION\n",
    "\n",
    "model = GradientBoostingRegressor(n_estimators=100)\n",
    "model2 = linear_model.BayesianRidge()\n",
    "model3 = KNeighborsClassifier(n_neighbors=128)\n",
    "model4 = RandomForestClassifier(n_estimators=200)\n",
    "model5 = AdaBoostClassifier(n_estimators=100)\n",
    "\n",
    "def showFeatureImportance(my_categories):\n",
    "    fx_imp = pd.Series(model.feature_importances_, index=my_categories)\n",
    "    fx_imp /= fx_imp.max()\n",
    "    fx_imp.sort_values()\n",
    "    fx_imp.sort_values(ascending=True).plot(kind='barh')\n",
    "    \n",
    "categories = ['PPG', 'WPerc', 'GamesPlayed', 'AvgScore', 'FGM',\n",
    "       'FGA', 'FGM3', 'FGA3', 'FTM', 'FTA', 'OR', 'DR', 'Ast', 'TO', 'Stl',\n",
    "       'Blk', 'PF', '2FG%', '3FG%', 'FG%', 'FT%', 'AvgScoreMarg', 'PPS',\n",
    "       'OEFF', 'DEFF', 'MasseyRank', 'PomeroyRank', 'MeanRank', 'Loc']\n",
    "\n",
    "\n",
    "accuracy=[]\n",
    "totals=[]\n",
    "for i in range(1):\n",
    "    results1 = model.fit(X_train, Y_train)\n",
    "    preds1 = model.predict(X_test)\n",
    "    \n",
    "    results2 = model2.fit(X_train, Y_train)\n",
    "    preds2 = model2.predict(X_test)\n",
    "    \n",
    "    results3 = model3.fit(X_train, Y_train)\n",
    "    preds3 = model3.predict(X_test)\n",
    "\n",
    "    results4 = model4.fit(X_train, Y_train)\n",
    "    preds4 = model4.predict(X_test)\n",
    "    \n",
    "    results5 = model5.fit(X_train, Y_train)\n",
    "    preds5 = model5.predict(X_test)\n",
    "    \n",
    "    preds = (preds1 + preds2 + preds3 + preds4 + preds5)/5\n",
    "    totals.append(preds)\n",
    "    preds[preds < .5] = 0\n",
    "    preds[preds >= .5] = 1\n",
    "    accuracy.append(np.mean(preds == Y_test))\n",
    "    #accuracy.append(np.mean(predictions == Y_test))\n",
    "print(\"The accuracy is\", sum(accuracy)/len(accuracy))\n",
    "showFeatureImportance(categories)"
   ]
  },
  {
   "cell_type": "code",
   "execution_count": 132,
   "metadata": {},
   "outputs": [
    {
     "name": "stdout",
     "output_type": "stream",
     "text": [
      "(21900, 21)\n",
      "(21900,)\n",
      "(16425, 21) (5475, 21) (16425,) (5475,)\n"
     ]
    }
   ],
   "source": [
    "#Lets Eliminate some features, because too many can be bad. \n",
    "#Lets choose the top 20 (not including Massey Rank)\n",
    "\n",
    "def season_vector(team_id, year):\n",
    "    temp_frame = features_df.query('TeamID == {} and Season == {}'.format(team_id, year))\n",
    "    temp_frame = temp_frame[[ 'WPerc', 'GamesPlayed', 'AvgScore', 'FGM',\n",
    "       'FGA', 'FGM3', 'FGA3', 'OR', 'Ast', 'TO', 'Stl',\n",
    "       'Blk', 'PF', '2FG%', 'FT%', 'AvgScoreMarg',\n",
    "       'DEFF', 'MasseyRank', 'PomeroyRank', 'MeanRank']].values.flatten().tolist()\n",
    "    return temp_frame\n",
    "\n",
    "#Time to create the training set!\n",
    "def createTrainingSet(years):\n",
    "    totalNumGames = 0\n",
    "    for year in years:\n",
    "        season = regseason_compact_results_df_raw[regseason_compact_results_df_raw['Season'] == year]\n",
    "        totalNumGames += len(season.index)\n",
    "        tourney = tourney_compact_results_df[tourney_compact_results_df['Season'] == year]\n",
    "        totalNumGames += len(tourney.index)\n",
    "    numFeatures = len(season_vector(1276,2020)) #Just choosing a random team and seeing the dimensionality of the vector\n",
    "    xTrain = np.zeros(( totalNumGames, numFeatures + 1))\n",
    "    yTrain = np.zeros(( totalNumGames ))\n",
    "    indexCounter = 0\n",
    "    for year in years:\n",
    "        team_vectors = all_teams_season(year)\n",
    "        season = regseason_compact_results_df_raw[regseason_compact_results_df_raw['Season'] == year]\n",
    "        numGamesInSeason = len(season.index)\n",
    "        tourney = tourney_compact_results_df[tourney_compact_results_df['Season'] == year]\n",
    "        numGamesInSeason += len(tourney.index)\n",
    "        xTrainSeason = np.zeros(( numGamesInSeason, numFeatures + 1))\n",
    "        yTrainSeason = np.zeros(( numGamesInSeason ))\n",
    "        counter = 0\n",
    "        for index, row in season.iterrows():\n",
    "            w_team = row['WTeamID']\n",
    "            w_vector = team_vectors[w_team]\n",
    "            l_team = row['LTeamID']\n",
    "            l_vector = team_vectors[l_team]\n",
    "            diff = [a - b for a, b in zip(w_vector, l_vector)]\n",
    "            home = codify_home_away(row['WLoc'])\n",
    "            if (counter % 2 == 0):\n",
    "                diff.append(home) \n",
    "                xTrainSeason[counter] = diff\n",
    "                yTrainSeason[counter] = 1\n",
    "            else:\n",
    "                diff.append(-home)\n",
    "                xTrainSeason[counter] = [ -p for p in diff]\n",
    "                yTrainSeason[counter] = 0\n",
    "            counter += 1\n",
    "        for index, row in tourney.iterrows():\n",
    "            w_team = row['WTeamID']\n",
    "            w_vector = team_vectors[w_team]\n",
    "            l_team = row['LTeamID']\n",
    "            l_vector = team_vectors[l_team]\n",
    "            diff = [a - b for a, b in zip(w_vector, l_vector)]\n",
    "            home = 0 #All tournament games are neutral\n",
    "            if (counter % 2 == 0):\n",
    "                diff.append(home) \n",
    "                xTrainSeason[counter] = diff\n",
    "                yTrainSeason[counter] = 1\n",
    "            else:\n",
    "                diff.append(-home)\n",
    "                xTrainSeason[counter] = [ -p for p in diff]\n",
    "                yTrainSeason[counter] = 0\n",
    "            counter += 1\n",
    "        xTrain[indexCounter:numGamesInSeason+indexCounter] = xTrainSeason\n",
    "        yTrain[indexCounter:numGamesInSeason+indexCounter] = yTrainSeason\n",
    "        indexCounter += numGamesInSeason\n",
    "    return xTrain, yTrain\n",
    "\n",
    "year_list = range(2016,2020)\n",
    "x_train, y_train = createTrainingSet(year_list)\n",
    "\n",
    "#We need to normalize the data, so we'll do that below\n",
    "\n",
    "from sklearn import preprocessing\n",
    "scaler = preprocessing.MinMaxScaler()\n",
    "x_scaled = scaler.fit_transform(x_train)\n",
    "print(x_scaled.shape)\n",
    "print(y_train.shape)\n",
    "X_train, X_test, Y_train, Y_test = train_test_split(x_scaled, y_train)\n",
    "print(X_train.shape, X_test.shape, Y_train.shape, Y_test.shape)"
   ]
  },
  {
   "cell_type": "code",
   "execution_count": 133,
   "metadata": {},
   "outputs": [
    {
     "name": "stdout",
     "output_type": "stream",
     "text": [
      "Finished iteration: [120]\n",
      "The accuracy is 0.7554337899543379\n"
     ]
    }
   ],
   "source": [
    "#CHOOSE MODELS\n",
    "\n",
    "#Logistic Regression\n",
    "\n",
    "model = linear_model.LogisticRegression(max_iter=1000)\n",
    "\n",
    "accuracy=[]\n",
    "\n",
    "results = model.fit(X_train, Y_train)\n",
    "preds = model.predict(X_test)\n",
    "preds[preds < .5] = 0\n",
    "preds[preds >= .5] = 1\n",
    "accuracy.append(np.mean(preds == Y_test))\n",
    "#accuracy.append(np.mean(predictions == Y_test))\n",
    "print(\"Finished iteration:\", results.n_iter_)\n",
    "print(\"The accuracy is\", sum(accuracy)/len(accuracy))"
   ]
  },
  {
   "cell_type": "code",
   "execution_count": 134,
   "metadata": {
    "scrolled": true
   },
   "outputs": [
    {
     "name": "stdout",
     "output_type": "stream",
     "text": [
      "Minimum error:- 0.24255707762557077 at K = 58\n"
     ]
    },
    {
     "data": {
      "image/png": "[encoded data removed]",
      "text/plain": [
       "<Figure size 720x432 with 1 Axes>"
      ]
     },
     "metadata": {},
     "output_type": "display_data"
    }
   ],
   "source": [
    "#KNN\n",
    "#Next two cells show minimum error, maximum accuracy, and the value of K where this occurs\n",
    "#Quick sanity check - KNN is usually best when K is close to sqrt(num samples)\n",
    "#This value is sqrt(16425) = 128 and K=115\n",
    "\n",
    "error_rate = []\n",
    "for i in range(1,150):\n",
    " knn = KNeighborsClassifier(n_neighbors=i)\n",
    " knn.fit(X_train,Y_train)\n",
    " pred_i = knn.predict(X_test)\n",
    " error_rate.append(np.mean(pred_i != Y_test))\n",
    "\n",
    "plt.figure(figsize=(10,6))\n",
    "plt.plot(range(1,150),error_rate,color='blue', linestyle='dashed', \n",
    "         marker='o',markerfacecolor='red', markersize=10)\n",
    "plt.title('Error Rate vs. K Value')\n",
    "plt.xlabel('K')\n",
    "plt.ylabel('Error Rate')\n",
    "print(\"Minimum error:-\",min(error_rate),\"at K =\",error_rate.index(min(error_rate)))"
   ]
  },
  {
   "cell_type": "code",
   "execution_count": 135,
   "metadata": {},
   "outputs": [
    {
     "name": "stdout",
     "output_type": "stream",
     "text": [
      "Maximum accuracy:- 0.7574429223744292 at K = 58\n"
     ]
    },
    {
     "data": {
      "image/png": "[encoded data removed]",
      "text/plain": [
       "<Figure size 720x432 with 1 Axes>"
      ]
     },
     "metadata": {},
     "output_type": "display_data"
    }
   ],
   "source": [
    "acc = []\n",
    "# Will take some time\n",
    "from sklearn import metrics\n",
    "for i in range(1,150):\n",
    "    neigh = KNeighborsClassifier(n_neighbors = i).fit(X_train,Y_train)\n",
    "    yhat = neigh.predict(X_test)\n",
    "    acc.append(metrics.accuracy_score(Y_test, yhat))\n",
    "    \n",
    "plt.figure(figsize=(10,6))\n",
    "plt.plot(range(1,150),acc,color = 'blue',linestyle='dashed', \n",
    "         marker='o',markerfacecolor='red', markersize=10)\n",
    "plt.title('accuracy vs. K Value')\n",
    "plt.xlabel('K')\n",
    "plt.ylabel('Accuracy')\n",
    "print(\"Maximum accuracy:-\",max(acc),\"at K =\",acc.index(max(acc)))"
   ]
  },
  {
   "cell_type": "code",
   "execution_count": 142,
   "metadata": {},
   "outputs": [
    {
     "name": "stdout",
     "output_type": "stream",
     "text": [
      "The accuracy is 0.7598173515981735\n"
     ]
    }
   ],
   "source": [
    "from sklearn import svm\n",
    "\n",
    "model = svm.SVC()\n",
    "\n",
    "accuracy=[]\n",
    "\n",
    "results = model.fit(X_train, Y_train)\n",
    "preds = model.predict(X_test)\n",
    "preds[preds < .5] = 0\n",
    "preds[preds >= .5] = 1\n",
    "accuracy.append(np.mean(preds == Y_test))\n",
    "#accuracy.append(np.mean(predictions == Y_test))\n",
    "print(\"The accuracy is\", sum(accuracy)/len(accuracy))"
   ]
  },
  {
   "cell_type": "code",
   "execution_count": 143,
   "metadata": {},
   "outputs": [
    {
     "name": "stdout",
     "output_type": "stream",
     "text": [
      "The accuracy is 0.7585388127853882\n"
     ]
    }
   ],
   "source": [
    "#Lets try some other cool models like Gradient Boosting Classifier\n",
    "from sklearn.ensemble import GradientBoostingClassifier\n",
    "model = GradientBoostingClassifier(n_estimators=100)\n",
    "\n",
    "accuracy=[]\n",
    "\n",
    "results = model.fit(X_train, Y_train)\n",
    "preds = model.predict(X_test)\n",
    "preds[preds < .5] = 0\n",
    "preds[preds >= .5] = 1\n",
    "accuracy.append(np.mean(preds == Y_test))\n",
    "#accuracy.append(np.mean(predictions == Y_test))\n",
    "print(\"The accuracy is\", sum(accuracy)/len(accuracy))"
   ]
  },
  {
   "cell_type": "code",
   "execution_count": 75,
   "metadata": {},
   "outputs": [],
   "source": [
    "#TRAIN MODEL\n"
   ]
  },
  {
   "cell_type": "code",
   "execution_count": 21,
   "metadata": {},
   "outputs": [],
   "source": [
    "#EVALUATE THE MODEL\n",
    "\n"
   ]
  },
  {
   "cell_type": "code",
   "execution_count": 22,
   "metadata": {},
   "outputs": [],
   "source": [
    "#STEP 6 - TUNE THE PARAMETERS\n",
    "\n"
   ]
  },
  {
   "cell_type": "code",
   "execution_count": 23,
   "metadata": {},
   "outputs": [],
   "source": [
    "#STEP 7 - CREATE FINAL PREDICTIONS FOR 2021 TOURNAMENT \n",
    "\n"
   ]
  }
 ],
 "metadata": {
  "kernelspec": {
   "display_name": "Python 3",
   "language": "python",
   "name": "python3"
  },
  "language_info": {
   "codemirror_mode": {
    "name": "ipython",
    "version": 3
   },
   "file_extension": ".py",
   "mimetype": "text/x-python",
   "name": "python",
   "nbconvert_exporter": "python",
   "pygments_lexer": "ipython3",
   "version": "3.7.3"
  }
 },
 "nbformat": 4,
 "nbformat_minor": 4
}
