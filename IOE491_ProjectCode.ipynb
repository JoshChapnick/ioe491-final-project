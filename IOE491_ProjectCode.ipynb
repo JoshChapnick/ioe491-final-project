{
 "cells": [
  {
   "cell_type": "code",
   "execution_count": 6,
   "metadata": {
    "collapsed": true
   },
   "outputs": [],
   "source": [
    "import pandas as pd\n",
    "import numpy as np"
   ]
  },
  {
   "cell_type": "code",
   "execution_count": 7,
   "outputs": [
    {
     "name": "stdout",
     "output_type": "stream",
     "text": [
      "               ID  Pred\n",
      "0  2015_1107_1112   0.5\n",
      "1  2015_1107_1116   0.5\n",
      "2  2015_1107_1124   0.5\n",
      "3  2015_1107_1125   0.5\n",
      "4  2015_1107_1129   0.5\n"
     ]
    }
   ],
   "source": [
    "# STEP 1 - GATHERING DATA\n",
    "\n",
    "\n",
    "seasons_df = pd.read_csv('ncaam-march-mania-2021/MDataFiles_Stage1/MSeasons.csv')\n",
    "#print(seasons_df.head())\n",
    "\n",
    "conferences_df = pd.read_csv('ncaam-march-mania-2021/MDataFiles_Stage1/Conferences.csv')\n",
    "#print(conferences_df.head())\n",
    "\n",
    "team_conferences_df = pd.read_csv('ncaam-march-mania-2021/MDataFiles_Stage1/MTeamConferences.csv')\n",
    "#print(team_conferences_df.head())\n",
    "\n",
    "tourney_seeds_df = pd.read_csv('ncaam-march-mania-2021/MDataFiles_Stage1/MNCAATourneySeeds.csv')\n",
    "#print(tourney_seeds_df.head())\n",
    "\n",
    "tourney_slots_df = pd.read_csv('ncaam-march-mania-2021/MDataFiles_Stage1/MNCAATourneySlots.csv')\n",
    "#print(tourney_slots_df.head())\n",
    "\n",
    "tourney_seed_round_slots_df = pd.read_csv('ncaam-march-mania-2021/MDataFiles_Stage1/MNCAATourneySeedRoundSlots.csv')\n",
    "#print(tourney_seed_round_slots_df.head())\n",
    "\n",
    "regseason_compact_results_df = pd.read_csv('ncaam-march-mania-2021/MDataFiles_Stage1/MRegularSeasonCompactResults.csv')\n",
    "#print(regseason_compact_results_df.head())\n",
    "\n",
    "tourney_compact_results_df = pd.read_csv('ncaam-march-mania-2021/MDataFiles_Stage1/MNCAATourneyCompactResults.csv')\n",
    "#print(tourney_compact_results_df.head())\n",
    "\n",
    "regseason_detailed_results_df = pd.read_csv('ncaam-march-mania-2021/MDataFiles_Stage1/MRegularSeasonDetailedResults.csv')\n",
    "#print(regseason_detailed_results_df.head())\n",
    "\n",
    "tourney_detailed_results_df = pd.read_csv('ncaam-march-mania-2021/MDataFiles_Stage1/MNCAATourneyDetailedResults.csv')\n",
    "#print(tourney_detailed_results_df.head())\n",
    "\n",
    "conference_tourney_games_df = pd.read_csv('ncaam-march-mania-2021/MDataFiles_Stage1/MConferenceTourneyGames.csv')\n",
    "#print(conference_tourney_games_df.head())\n",
    "\n",
    "massey_ordinals_df = pd.read_csv('ncaam-march-mania-2021/MDataFiles_Stage1/MMasseyOrdinals.csv')\n",
    "#print(massey_ordinals_df.head())\n",
    "\n",
    "sample_submission_df = pd.read_csv('ncaam-march-mania-2021/MDataFiles_Stage1/MSampleSubmissionStage1.csv')\n",
    "#print(sample_submission_df.head())\n"
   ],
   "metadata": {
    "collapsed": false,
    "pycharm": {
     "name": "#%%\n"
    }
   }
  },
  {
   "cell_type": "code",
   "execution_count": 8,
   "outputs": [
    {
     "ename": "SyntaxError",
     "evalue": "invalid syntax (<ipython-input-8-a6141b927931>, line 90)",
     "output_type": "error",
     "traceback": [
      "\u001B[0;36m  File \u001B[0;32m\"<ipython-input-8-a6141b927931>\"\u001B[0;36m, line \u001B[0;32m90\u001B[0m\n\u001B[0;31m    regseason_detailed_results_df[\"WOEFF\"] = (regseason_detailed_results_df[\"WScore\"] / ((regseason_detailed_results_df[\"WFGA\"] + regseason_detailed_results_df[\"WFGA3\"]) - regseason_detailed_results_df['WOR'] + regseason_detailed_results_df['WTO'] + (0.4 x regseason_detailed_results_df['WFTA'])))\u001B[0m\n\u001B[0m                                                                                                                                                                                                                                                               ^\u001B[0m\n\u001B[0;31mSyntaxError\u001B[0m\u001B[0;31m:\u001B[0m invalid syntax\n"
     ]
    }
   ],
   "source": [
    "#STEP 2 - DATA PREPARATION\n",
    "\n",
    "#Part 1 - Obtain TeamID, Season, Win %, Games Played, and PPG\n",
    "\n",
    "#Find the game duration\n",
    "regseason_compact_results_df['GameDuration'] = regseason_compact_results_df['NumOT']\n",
    "\n",
    "# Normalize data for games with overtime\n",
    "for i in range(len(regseason_compact_results_df.NumOT.value_counts())):\n",
    "    regseason_compact_results_df.loc[regseason_compact_results_df['NumOT'] == regseason_compact_results_df.NumOT.value_counts().index[i], 'GameDuration'] = 40 + i*5\n",
    "\n",
    "regseason_compact_results_df['WPPG'] = regseason_compact_results_df['WScore'].as_type(float) * (40.0 / regseason_compact_results_df['GameDuration'].as_type(float))\n",
    "regseason_compact_results_df['LPPG'] = regseason_compact_results_df['LScore'].as_type(float) * (40.0 / regseason_compact_results_df['GameDuration'].as_type(float))\n",
    "\n",
    "regseason_compact_results_df = regseason_compact_results_df.drop(['DayNum', 'WLoc', 'NumOT', 'WScore','LScore','GameDuration'], axis = 1)\n",
    "\n",
    "#Calculate average points per game and number of games for winning and losing team\n",
    "WPPG_df = regseason_compact_results_df[[\"Season\",\"WTeamID\",'WPPG']].groupby([\"Season\",\"WTeamID\"]).agg(['mean', 'count'])\n",
    "LPPG_df = regseason_compact_results_df[[\"Season\",\"LTeamID\",'LPPG']].groupby([\"Season\",\"LTeamID\"]).agg(['mean', 'count'])\n",
    "\n",
    "#Merge PPG for wins and losses and fill NaNs with 0s for undefeated and no-win teams\n",
    "ppg_df = pd.merge(WPPG_df, LPPG_df, left_on=['Season', 'WTeamID'], right_on=['Season', 'LTeamID'], how='outer')\n",
    "ppg_df = ppg_df.fillna({'WTeamID': ppg_df.LTeamID, 'WPPG': 0, 'WGames': 0, 'LTeamID': ppg_df.WTeamID , 'LPPG': 0, 'LGames': 0})\n",
    "\n",
    "#Calculate PPG and win percentage for season\n",
    "ppg_df['PPG'] = (ppg_df['WPPG']*ppg_df['WGames'] + ppg_df['LPPG']*ppg_df['LGames'])/(ppg_df['WGames'] + ppg_df['LGames'])\n",
    "ppg_df['WPerc'] = (ppg_df['WGames'])/(ppg_df['WGames'] + ppg_df['LGames'])\n",
    "ppg_df['TeamID'] = ppg_df['WTeamID'].astype('int32')\n",
    "ppg_df['GamesPlayed'] = (ppg_df['WGames'] + ppg_df['LGames'])\n",
    "ppg_df = ppg_df.drop(['WTeamID', 'WPPG' ,'WGames','LTeamID', 'LPPG','LGames'],axis = 1)\n",
    "\n",
    "#Part 2 - Obtain game level statistics:\n",
    "    #2-PT field goal efficiency (2-PT field goals made per game / 2-PT field goals attempted per game)\n",
    "    #3-PT field goal efficiency\n",
    "    #Total field goal efficiency\n",
    "    #Free throw efficiency\n",
    "    #Assists per game\n",
    "    #Blocks per game\n",
    "    #Steals per game\n",
    "    #Turnovers per game\n",
    "    #Personal fouls per game\n",
    "    #Offensive rebounds per game\n",
    "    #Defensive rebounds per game\n",
    "    #Points per shot\n",
    "    #Total rebounds per game\n",
    "    #Average turnovers to assists ratio\n",
    "    #Average turnovers to steals ratio\n",
    "    #Average scoring margin\n",
    "\n",
    "\n",
    "#Gametime normalization\n",
    "regseason_detailed_results_df['GameDuration'] = regseason_detailed_results_df['NumOT']\n",
    "for i in range(len(regseason_detailed_results_df.NumOT.value_counts())):\n",
    "    regseason_detailed_results_df.loc[regseason_detailed_results_df['NumOT'] == regseason_detailed_results_df.NumOT.value_counts().index[i], 'GameDuration'] = 40 + i*5\n",
    "\n",
    "regseason_detailed_results_df['WFGM'] = (regseason_detailed_results_df['WFGM'] / regseason_detailed_results_df['GameDuration']) * 40\n",
    "regseason_detailed_results_df['WFGA'] = (regseason_detailed_results_df['WFGA'] / regseason_detailed_results_df['GameDuration']) * 40\n",
    "regseason_detailed_results_df['WFGM3'] = (regseason_detailed_results_df['WFGM3'] / regseason_detailed_results_df['GameDuration']) * 40\n",
    "regseason_detailed_results_df['WFGA3'] = (regseason_detailed_results_df['WFGA3'] / regseason_detailed_results_df['GameDuration']) * 40\n",
    "regseason_detailed_results_df['WFTM'] = (regseason_detailed_results_df['WFTM'] / regseason_detailed_results_df['GameDuration']) * 40\n",
    "regseason_detailed_results_df['WFTA'] = (regseason_detailed_results_df['WFTA'] / regseason_detailed_results_df['GameDuration']) * 40\n",
    "regseason_detailed_results_df['WOR'] = (regseason_detailed_results_df['WOR'] / regseason_detailed_results_df['GameDuration']) * 40\n",
    "regseason_detailed_results_df['WDR'] = (regseason_detailed_results_df['WDR'] / regseason_detailed_results_df['GameDuration']) * 40\n",
    "regseason_detailed_results_df['WAst'] = (regseason_detailed_results_df['WAst'] / regseason_detailed_results_df['GameDuration']) * 40\n",
    "regseason_detailed_results_df['WTO'] = (regseason_detailed_results_df['WTO'] / regseason_detailed_results_df['GameDuration']) * 40\n",
    "regseason_detailed_results_df['WStl'] = (regseason_detailed_results_df['WStl'] / regseason_detailed_results_df['GameDuration']) * 40\n",
    "regseason_detailed_results_df['WBlk'] = (regseason_detailed_results_df['WBlk'] / regseason_detailed_results_df['GameDuration']) * 40\n",
    "regseason_detailed_results_df['WPF'] = (regseason_detailed_results_df['WPF'] / regseason_detailed_results_df['GameDuration']) * 40\n",
    "\n",
    "regseason_detailed_results_df['LFGM'] = (regseason_detailed_results_df['LFGM'] / regseason_detailed_results_df['GameDuration']) * 40\n",
    "regseason_detailed_results_df['LFGA'] = (regseason_detailed_results_df['LFGA'] / regseason_detailed_results_df['GameDuration']) * 40\n",
    "regseason_detailed_results_df['LFGM3'] = (regseason_detailed_results_df['LFGM3'] / regseason_detailed_results_df['GameDuration']) * 40\n",
    "regseason_detailed_results_df['LFGA3'] = (regseason_detailed_results_df['LFGA3'] / regseason_detailed_results_df['GameDuration']) * 40\n",
    "regseason_detailed_results_df['LFTM'] = (regseason_detailed_results_df['LFTM'] / regseason_detailed_results_df['GameDuration']) * 40\n",
    "regseason_detailed_results_df['LFTA'] = (regseason_detailed_results_df['LFTA'] / regseason_detailed_results_df['GameDuration']) * 40\n",
    "regseason_detailed_results_df['LOR'] = (regseason_detailed_results_df['LOR'] / regseason_detailed_results_df['GameDuration']) * 40\n",
    "regseason_detailed_results_df['LDR'] = (regseason_detailed_results_df['LDR'] / regseason_detailed_results_df['GameDuration']) * 40\n",
    "regseason_detailed_results_df['LAst'] = (regseason_detailed_results_df['LAst'] / regseason_detailed_results_df['GameDuration']) * 40\n",
    "regseason_detailed_results_df['LTO'] = (regseason_detailed_results_df['LTO'] / regseason_detailed_results_df['GameDuration']) * 40\n",
    "regseason_detailed_results_df['LStl'] = (regseason_detailed_results_df['LStl'] / regseason_detailed_results_df['GameDuration']) * 40\n",
    "regseason_detailed_results_df['LBlk'] = (regseason_detailed_results_df['LBlk'] / regseason_detailed_results_df['GameDuration']) * 40\n",
    "regseason_detailed_results_df['LPF'] = (regseason_detailed_results_df['LPF'] / regseason_detailed_results_df['GameDuration']) * 40\n",
    "\n",
    "#Calculate game level statistics for winning team\n",
    "\n",
    "regseason_detailed_results_df[\"W2FG%\"] = (regseason_detailed_results_df[\"WFGM\"] / regseason_detailed_results_df[\"WFGA\"])\n",
    "regseason_detailed_results_df[\"W3FG%\"] = (regseason_detailed_results_df[\"WFGM3\"] / regseason_detailed_results_df[\"WFGA3\"])\n",
    "regseason_detailed_results_df[\"WFG%\"] = (regseason_detailed_results_df[\"WFGM\"] + regseason_detailed_results_df[\"WFGM3\"] ) / (regseason_detailed_results_df[\"WFGA\"] + regseason_detailed_results_df[\"WFGA3\"])\n",
    "regseason_detailed_results_df[\"WFT%\"] = (regseason_detailed_results_df['WFTM'] / regseason_detailed_results_df['WFTA'])\n",
    "regseason_detailed_results_df[\"WScoreMargin\"] = regseason_detailed_results_df[\"WScore\"] - regseason_detailed_results_df[\"LScore\"]\n",
    "regseason_detailed_results_df[\"WPPS\"] = (regseason_detailed_results_df[\"WScore\"]) / (regseason_detailed_results_df[\"WFGA\"] + regseason_detailed_results_df[\"WFGA3\"])\n",
    "regseason_detailed_results_df[\"WOEFF\"] = (regseason_detailed_results_df[\"WScore\"] / ((regseason_detailed_results_df[\"WFGA\"] + regseason_detailed_results_df[\"WFGA3\"]) - regseason_detailed_results_df['WOR'] + regseason_detailed_results_df['WTO'] + (0.4 x regseason_detailed_results_df['WFTA'])))\n",
    "regseason_detailed_results_df[\"WDEFF\"] = (regseason_detailed_results_df[\"LScore\"] / ((regseason_detailed_results_df[\"WFGA\"] + regseason_detailed_results_df[\"WFGA3\"]) - regseason_detailed_results_df['WOR'] + regseason_detailed_results_df['WTO'] + (0.4 x regseason_detailed_results_df['WFTA'])))\n",
    "\n",
    "#Calculate game level statistics for losing team\n",
    "\n",
    "regseason_detailed_results_df[\"L2FG%\"] = (regseason_detailed_results_df[\"LFGM\"] / regseason_detailed_results_df[\"LFGA\"])\n",
    "regseason_detailed_results_df[\"L3FG%\"] = (regseason_detailed_results_df[\"LFGM3\"] / regseason_detailed_results_df[\"LFGA3\"])\n",
    "regseason_detailed_results_df[\"LFG%\"] = (regseason_detailed_results_df[\"LFGM\"] + regseason_detailed_results_df[\"LFGM3\"] ) / (regseason_detailed_results_df[\"LFGA\"] + regseason_detailed_results_df[\"LFGA3\"])\n",
    "regseason_detailed_results_df[\"LFT%\"] = (regseason_detailed_results_df['LFTM'] / regseason_detailed_results_df['LFTA'])\n",
    "regseason_detailed_results_df[\"LScoreMargin\"] = (regseason_detailed_results_df[\"LScore\"] - regseason_detailed_results_df[\"WScore\"])\n",
    "regseason_detailed_results_df[\"LPPS\"] = (regseason_detailed_results_df[\"LScore\"]) / (regseason_detailed_results_df[\"LFGA\"] + regseason_detailed_results_df[\"LFGA3\"])\n",
    "regseason_detailed_results_df[\"LOEFF\"] = (regseason_detailed_results_df[\"LScore\"] / ((regseason_detailed_results_df[\"LFGA\"] + regseason_detailed_results_df[\"LFGA3\"]) - regseason_detailed_results_df['LOR'] + regseason_detailed_results_df['LTO'] + (0.4 x regseason_detailed_results_df['LFTA'])))\n",
    "regseason_detailed_results_df[\"LDEFF\"] = (regseason_detailed_results_df[\"WScore\"] / ((regseason_detailed_results_df[\"LFGA\"] + regseason_detailed_results_df[\"LFGA3\"]) - regseason_detailed_results_df['LOR'] + regseason_detailed_results_df['LTO'] + (0.4 x regseason_detailed_results_df['LFTA'])))\n",
    "\n",
    "\n",
    "#Take seasonal averages of the season level and game level metrics\n",
    "#WPPG_df = regseason_compact_results_df[[\"Season\",\"WTeamID\",'WPPG']].groupby([\"Season\",\"WTeamID\"]).agg(['mean', 'count'])\n",
    "#LPPG_df = regseason_compact_results_df[[\"Season\",\"LTeamID\",'LPPG']].groupby([\"Season\",\"LTeamID\"]).agg(['mean', 'count'])\n",
    "game_details_df ="
   ],
   "metadata": {
    "collapsed": false,
    "pycharm": {
     "name": "#%%\n"
    }
   }
  },
  {
   "cell_type": "code",
   "execution_count": null,
   "outputs": [],
   "source": [
    "#Part 4 - Add Ranking Data\n",
    "rankings_df = massey_df[massey_df['RankingDayNum'] == 133]\n",
    "rankings_df = rankings_df.reset_index().drop(['index','RankingDayNum'], axis = 1)\n",
    "mean_df = rankings_df.groupby(by = ['Season','TeamID'])[['OrdinalRank']].mean().reset_index()\n",
    "mean_df = mean_df.rename(columns = {'OrdinalRank':'MeanRank'})\n",
    "massey_df = rankings_df[rankings_df['SystemName'] == 'MAS']\n",
    "massey_df = massey_df.reset_index().drop(['index','SystemName'], axis = 1)\n",
    "massey_df = massey_df.rename(columns = {'OrdinalRank':'MasseyRank'})\n",
    "pomeroy_df = rankings_df[rankings_df['SystemName'] == 'POM']\n",
    "pomeroy_df = pomeroy_df.reset_index().drop(['index','SystemName'], axis = 1)\n",
    "pomeroy_df = pomeroy_df.rename(columns = {'OrdinalRank':'PomeroyRank'})\n",
    "rankings_df = pd.merge(massey_df, pomeroy_df, left_on=['Season', 'TeamID'], right_on=['Season', 'TeamID'], how='left')\n",
    "rankings_df = pd.merge(rankings_df, mean_df, left_on=['Season', 'TeamID'], right_on=['Season', 'TeamID'], how='left')"
   ],
   "metadata": {
    "collapsed": false,
    "pycharm": {
     "name": "#%%\n"
    }
   }
  },
  {
   "cell_type": "code",
   "execution_count": null,
   "outputs": [],
   "source": [
    "#Part 5 - Merge the dataframes into one feature set\n",
    "\n",
    "#Create feature list for each season of every D1 team\n",
    "feature_names = [ \"TeamID\", \"Season\", \"Win %\", \"Games Played\", \"PPG\", \"2FG%\", \"3FG%\",\"FG%\", \"FT%\", \"APG\", \"BPG\", \"STLPG\", \"TPG\", \"PFPG\", \"ORPG\", \"DRPG\", \"PPS\", \"TRPG\", \"TAR\",\"TSR\", \"ASM\", \"AvgRank\", \"MRank\", \"PRank\"]\n",
    "features_df = pd.DataFrame(columns = feature_names)"
   ],
   "metadata": {
    "collapsed": false,
    "pycharm": {
     "name": "#%%\n"
    }
   }
  },
  {
   "cell_type": "code",
   "execution_count": null,
   "outputs": [],
   "source": [
    "# Feature selection and reduction\n"
   ],
   "metadata": {
    "collapsed": false,
    "pycharm": {
     "name": "#%%\n"
    }
   }
  },
  {
   "cell_type": "code",
   "execution_count": null,
   "outputs": [],
   "source": [
    "#STEP 3 - CHOOSE MODELS\n"
   ],
   "metadata": {
    "collapsed": false,
    "pycharm": {
     "name": "#%%\n"
    }
   }
  },
  {
   "cell_type": "code",
   "execution_count": null,
   "outputs": [],
   "source": [
    "\n",
    "#STEP 4 - TRAIN MODEL\n"
   ],
   "metadata": {
    "collapsed": false,
    "pycharm": {
     "name": "#%%\n"
    }
   }
  },
  {
   "cell_type": "code",
   "execution_count": null,
   "outputs": [],
   "source": [
    "\n",
    "#STEP 5 - EVALUATE THE MODEL\n"
   ],
   "metadata": {
    "collapsed": false,
    "pycharm": {
     "name": "#%%\n"
    }
   }
  },
  {
   "cell_type": "code",
   "execution_count": null,
   "outputs": [],
   "source": [
    "\n",
    "#STEP 6 - TUNE THE PARAMETERS\n"
   ],
   "metadata": {
    "collapsed": false,
    "pycharm": {
     "name": "#%%\n"
    }
   }
  },
  {
   "cell_type": "code",
   "execution_count": null,
   "outputs": [],
   "source": [
    "\n",
    "#STEP 7 - CREATE FINAL PREDICTIONS FOR 2021 TOURNAMENT\n",
    "\n"
   ],
   "metadata": {
    "collapsed": false,
    "pycharm": {
     "name": "#%%\n"
    }
   }
  }
 ],
 "metadata": {
  "kernelspec": {
   "display_name": "Python 3",
   "language": "python",
   "name": "python3"
  },
  "language_info": {
   "codemirror_mode": {
    "name": "ipython",
    "version": 2
   },
   "file_extension": ".py",
   "mimetype": "text/x-python",
   "name": "python",
   "nbconvert_exporter": "python",
   "pygments_lexer": "ipython2",
   "version": "2.7.6"
  }
 },
 "nbformat": 4,
 "nbformat_minor": 0
}