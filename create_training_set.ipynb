{
 "cells": [
  {
   "cell_type": "code",
   "execution_count": 25,
   "metadata": {
    "collapsed": true
   },
   "outputs": [],
   "source": [
    "import pandas as pd\n",
    "import numpy as np\n",
    "import collections"
   ]
  },
  {
   "cell_type": "code",
   "execution_count": 26,
   "outputs": [
    {
     "ename": "TypeError",
     "evalue": "unsupported operand type(s) for -: 'list' and 'list'",
     "output_type": "error",
     "traceback": [
      "\u001B[0;31m---------------------------------------------------------------------------\u001B[0m",
      "\u001B[0;31mTypeError\u001B[0m                                 Traceback (most recent call last)",
      "\u001B[0;32m<ipython-input-26-6452f380a59c>\u001B[0m in \u001B[0;36m<module>\u001B[0;34m\u001B[0m\n\u001B[1;32m     12\u001B[0m     \u001B[0;32mreturn\u001B[0m \u001B[0mcomparison\u001B[0m\u001B[0;34m\u001B[0m\u001B[0;34m\u001B[0m\u001B[0m\n\u001B[1;32m     13\u001B[0m \u001B[0;34m\u001B[0m\u001B[0m\n\u001B[0;32m---> 14\u001B[0;31m \u001B[0mcompare_teams\u001B[0m\u001B[0;34m(\u001B[0m\u001B[0;36m1228\u001B[0m\u001B[0;34m,\u001B[0m \u001B[0;36m1235\u001B[0m\u001B[0;34m,\u001B[0m \u001B[0;36m1995\u001B[0m\u001B[0;34m)\u001B[0m\u001B[0;34m\u001B[0m\u001B[0;34m\u001B[0m\u001B[0m\n\u001B[0m",
      "\u001B[0;32m<ipython-input-26-6452f380a59c>\u001B[0m in \u001B[0;36mcompare_teams\u001B[0;34m(team_id_1, team_id_2, year)\u001B[0m\n\u001B[1;32m      9\u001B[0m     \u001B[0mteam_1\u001B[0m \u001B[0;34m=\u001B[0m \u001B[0mseason_vector\u001B[0m\u001B[0;34m(\u001B[0m\u001B[0mteam_id_1\u001B[0m\u001B[0;34m,\u001B[0m \u001B[0myear\u001B[0m\u001B[0;34m)\u001B[0m\u001B[0;34m\u001B[0m\u001B[0;34m\u001B[0m\u001B[0m\n\u001B[1;32m     10\u001B[0m     \u001B[0mteam_2\u001B[0m \u001B[0;34m=\u001B[0m \u001B[0mseason_vector\u001B[0m\u001B[0;34m(\u001B[0m\u001B[0mteam_id_2\u001B[0m\u001B[0;34m,\u001B[0m \u001B[0myear\u001B[0m\u001B[0;34m)\u001B[0m\u001B[0;34m\u001B[0m\u001B[0;34m\u001B[0m\u001B[0m\n\u001B[0;32m---> 11\u001B[0;31m     \u001B[0mcomparison\u001B[0m \u001B[0;34m=\u001B[0m \u001B[0;34m[\u001B[0m\u001B[0ma\u001B[0m \u001B[0;34m-\u001B[0m \u001B[0mb\u001B[0m \u001B[0;32mfor\u001B[0m \u001B[0ma\u001B[0m\u001B[0;34m,\u001B[0m \u001B[0mb\u001B[0m \u001B[0;32min\u001B[0m \u001B[0mzip\u001B[0m\u001B[0;34m(\u001B[0m\u001B[0mteam_1\u001B[0m\u001B[0;34m,\u001B[0m \u001B[0mteam_2\u001B[0m\u001B[0;34m)\u001B[0m\u001B[0;34m]\u001B[0m\u001B[0;34m\u001B[0m\u001B[0;34m\u001B[0m\u001B[0m\n\u001B[0m\u001B[1;32m     12\u001B[0m     \u001B[0;32mreturn\u001B[0m \u001B[0mcomparison\u001B[0m\u001B[0;34m\u001B[0m\u001B[0;34m\u001B[0m\u001B[0m\n\u001B[1;32m     13\u001B[0m \u001B[0;34m\u001B[0m\u001B[0m\n",
      "\u001B[0;32m<ipython-input-26-6452f380a59c>\u001B[0m in \u001B[0;36m<listcomp>\u001B[0;34m(.0)\u001B[0m\n\u001B[1;32m      9\u001B[0m     \u001B[0mteam_1\u001B[0m \u001B[0;34m=\u001B[0m \u001B[0mseason_vector\u001B[0m\u001B[0;34m(\u001B[0m\u001B[0mteam_id_1\u001B[0m\u001B[0;34m,\u001B[0m \u001B[0myear\u001B[0m\u001B[0;34m)\u001B[0m\u001B[0;34m\u001B[0m\u001B[0;34m\u001B[0m\u001B[0m\n\u001B[1;32m     10\u001B[0m     \u001B[0mteam_2\u001B[0m \u001B[0;34m=\u001B[0m \u001B[0mseason_vector\u001B[0m\u001B[0;34m(\u001B[0m\u001B[0mteam_id_2\u001B[0m\u001B[0;34m,\u001B[0m \u001B[0myear\u001B[0m\u001B[0;34m)\u001B[0m\u001B[0;34m\u001B[0m\u001B[0;34m\u001B[0m\u001B[0m\n\u001B[0;32m---> 11\u001B[0;31m     \u001B[0mcomparison\u001B[0m \u001B[0;34m=\u001B[0m \u001B[0;34m[\u001B[0m\u001B[0ma\u001B[0m \u001B[0;34m-\u001B[0m \u001B[0mb\u001B[0m \u001B[0;32mfor\u001B[0m \u001B[0ma\u001B[0m\u001B[0;34m,\u001B[0m \u001B[0mb\u001B[0m \u001B[0;32min\u001B[0m \u001B[0mzip\u001B[0m\u001B[0;34m(\u001B[0m\u001B[0mteam_1\u001B[0m\u001B[0;34m,\u001B[0m \u001B[0mteam_2\u001B[0m\u001B[0;34m)\u001B[0m\u001B[0;34m]\u001B[0m\u001B[0;34m\u001B[0m\u001B[0;34m\u001B[0m\u001B[0m\n\u001B[0m\u001B[1;32m     12\u001B[0m     \u001B[0;32mreturn\u001B[0m \u001B[0mcomparison\u001B[0m\u001B[0;34m\u001B[0m\u001B[0;34m\u001B[0m\u001B[0m\n\u001B[1;32m     13\u001B[0m \u001B[0;34m\u001B[0m\u001B[0m\n",
      "\u001B[0;31mTypeError\u001B[0m: unsupported operand type(s) for -: 'list' and 'list'"
     ]
    }
   ],
   "source": [
    "# This dataframe creates vectorized season data for each team\n",
    "\n",
    "all_teams_pd = pd.read_csv('ncaam-march-mania-2021/MDataFiles_Stage1/MTeams.csv')\n",
    "all_teams_list = all_teams_pd['Team_Name'].tolist()\n",
    "\n",
    "def season_vector(team_id, year):\n",
    "    return df.query('WTeamID == {} and Season == {}'.format(team_id, year)).values.tolist()\n",
    "\n",
    "def compare_teams(team_id_1, team_id_2, year):\n",
    "    team_1 = season_vector(team_id_1, year)\n",
    "    team_2 = season_vector(team_id_2, year)\n",
    "    comparison = [a - b for a, b in zip(team_1, team_2)]\n",
    "    return comparison\n",
    "\n",
    "def all_teams_season(year):\n",
    "    season_dictionary = collections.defaultdict(list)\n",
    "    for team in all_teams_list:\n",
    "        team_id = all_teams_pd[all_teams_pd['Team_Name'] == team].values[0][0]\n",
    "        team_vector = season_vector(team_id, year)\n",
    "        season_dictionary[team_id] = team_vector\n",
    "    return season_dictionary\n",
    "\n",
    "def codify_home_away(row_num):\n",
    "    if (row_num == 'H'):\n",
    "        home = 1\n",
    "    if (row_num == 'A'):\n",
    "        home = -1\n",
    "    if (row_num == 'N'):\n",
    "        home = 0\n",
    "    return home"
   ],
   "metadata": {
    "collapsed": false,
    "pycharm": {
     "name": "#%%\n"
    }
   }
  },
  {
   "cell_type": "code",
   "execution_count": null,
   "outputs": [],
   "source": [
    "def create_training_set(year_list):\n",
    "    num_games = 0\n",
    "    for year in year_list:\n",
    "        season = regseason_compact_results_df[regseason_compact_results_df['Season'] == year]\n",
    "        num_games += len(season.index)\n",
    "        tourney = tourney_compact_results_df[tourney_compact_results_df['Season'] == year]\n",
    "        num_games += len(tourney.index)\n",
    "    num_features = len(season_vector(1228, 2018))\n",
    "    x_train = np.zeros((num_games, num_features + 1))\n",
    "    y_train = np.zeros((num_games))\n",
    "\n",
    "    i = 0\n",
    "    for year in year_list:\n",
    "        team_vector = all_teams_season(year)\n",
    "        season = regseason_compact_results_df[regseason_compact_results_df['Season'] == year]\n",
    "        num_games_in_season = len(season.index)\n",
    "        tourney = tourney_compact_results_df[tourney_compact_results_df['Season'] == year]\n",
    "        num_games_in_season += len(tourney.index)\n",
    "        x_train_season = np.zeros((num_games_in_season, num_features + 1))\n",
    "        y_train_season = np.zeros((num_games_in_season))\n",
    "        j = 0\n",
    "        for i, row in season.iterrows():\n",
    "            w_team = row['WTeamID']\n",
    "            w_team_vector = team_vector[w_team]\n",
    "            l_team = row['LTeamID']\n",
    "            l_team_vector = team_vector[l_team]\n",
    "            comparison = [a - b for a, b in zip(w_team_vector, l_team_vector)]\n",
    "            loc = codify_home_away(row['WLoc'])\n",
    "            if j % 2 == 0:\n",
    "                comparison.append(loc)\n",
    "                x_train_season[j] = comparison\n",
    "                y_train_season[j] = 1\n",
    "            else:\n",
    "                comparison.append(-loc)\n",
    "                x_train_season[j] = [ -p for p in comparison]\n",
    "                y_train_season[j] = 0\n",
    "            j += 1\n",
    "        for i, row in tourney.iterrows():\n",
    "            w_team = row['WTeamID']\n",
    "            w_team_vector = team_vector[w_team]\n",
    "            l_team = row['LTeamID']\n",
    "            l_vector = team_vector[l_team]\n",
    "            comparison = [a - b for a, b in zip(w_team_vector, l_team_vector)]\n",
    "            loc = 0 #All tournament games are neutral\n",
    "            if (j % 2 == 0):\n",
    "                comparison.append(loc)\n",
    "                x_train_season[j] = comparison\n",
    "                y_train_season[j] = 1\n",
    "            else:\n",
    "                comparison.append(-loc)\n",
    "                x_train_season[j] = [ -p for p in comparison]\n",
    "                y_train_season[j] = 0\n",
    "            j += 1\n",
    "        x_train[i:num_games_in_season+i] = x_train_season\n",
    "        y_train[i:num_games_in_season+i] = y_train_season\n",
    "        i += num_games_in_season\n",
    "    return x_train, y_train"
   ],
   "metadata": {
    "collapsed": false,
    "pycharm": {
     "name": "#%%\n"
    }
   }
  },
  {
   "cell_type": "code",
   "execution_count": null,
   "outputs": [],
   "source": [
    "# Add standardization here"
   ],
   "metadata": {
    "collapsed": false,
    "pycharm": {
     "name": "#%%\n"
    }
   }
  },
  {
   "cell_type": "code",
   "execution_count": null,
   "outputs": [],
   "source": [
    "years = range(1993,2017)\n",
    "x_train, y_train = create_training_set(years)\n",
    "np.save('xTrain', x_train)\n",
    "np.save('yTrain', y_train)"
   ],
   "metadata": {
    "collapsed": false,
    "pycharm": {
     "name": "#%%\n"
    }
   }
  }
 ],
 "metadata": {
  "kernelspec": {
   "display_name": "Python 3",
   "language": "python",
   "name": "python3"
  },
  "language_info": {
   "codemirror_mode": {
    "name": "ipython",
    "version": 2
   },
   "file_extension": ".py",
   "mimetype": "text/x-python",
   "name": "python",
   "nbconvert_exporter": "python",
   "pygments_lexer": "ipython2",
   "version": "2.7.6"
  }
 },
 "nbformat": 4,
 "nbformat_minor": 0
}